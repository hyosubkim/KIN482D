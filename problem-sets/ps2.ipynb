{
 "cells": [
  {
   "cell_type": "markdown",
   "id": "cff6cfbf-d31c-4ed0-a38a-d43e514a7962",
   "metadata": {},
   "source": [
    "<div class=\"alert alert-block alert-info\"> \n",
    "    \n",
    "1) Remember to click on \"Kernel -> Restart Kernel and Run All Cells\" to make sure your notebook runs without errors from top-to-bottom. \n",
    "    \n",
    "2) Once you've confirmed there are no issues, go to \"File\" and choose \"Download\" to save a copy of your notebook as an .ipynb file locally onto your personal computer. You don't have to rename the file. For future assignments, you can continue to simply name the files based on assignment/problem set number (e.g., \"ps2.ipynb\"). \n",
    "    \n",
    "3) Next, go to \"File\" and then \"Save and Export Notebook As... -> HTML\" to save a version of your assignment as an .html file. \n",
    "    \n",
    "4) Lastly, upload both files to Canvas under the correct Assignment.\n",
    "    \n",
    "    \n",
    "</div>"
   ]
  },
  {
   "cell_type": "code",
   "execution_count": null,
   "id": "f57b1651-53bb-4029-8172-b0e188b64ccb",
   "metadata": {},
   "outputs": [],
   "source": [
    "# YOUR NAME AND ANYONE WHO ASSISTED YOU IN ANY WAY\n",
    "NAME = \"\"\n",
    "ASSIST = \"\""
   ]
  },
  {
   "cell_type": "markdown",
   "id": "133cbb0a-9393-4399-bae1-12f714596b25",
   "metadata": {},
   "source": [
    "---\n",
    "## Problem Set 2\n",
    "\n",
    "### Within Chapter Exercises:\n",
    "\n",
    "- 3.1\n",
    "- 3.2\n",
    "- 3.3\n",
    "- 3.5\n",
    "\n",
    "### End of Chapter Problems:\n",
    "\n",
    "- 3.1\n",
    "- 3.2\n",
    "- 3.3\n",
    "- 3.5\n",
    "\n",
    "---"
   ]
  },
  {
   "cell_type": "code",
   "execution_count": null,
   "id": "bcb18f01-55d3-4919-9cdb-dfc33e024317",
   "metadata": {},
   "outputs": [],
   "source": []
  }
 ],
 "metadata": {
  "kernelspec": {
   "display_name": "Python 3 (ipykernel)",
   "language": "python",
   "name": "python3"
  },
  "language_info": {
   "codemirror_mode": {
    "name": "ipython",
    "version": 3
   },
   "file_extension": ".py",
   "mimetype": "text/x-python",
   "name": "python",
   "nbconvert_exporter": "python",
   "pygments_lexer": "ipython3",
   "version": "3.10.14"
  }
 },
 "nbformat": 4,
 "nbformat_minor": 5
}

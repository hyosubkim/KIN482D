{
 "cells": [
  {
   "cell_type": "markdown",
   "id": "cff6cfbf-d31c-4ed0-a38a-d43e514a7962",
   "metadata": {},
   "source": [
    "<div class=\"alert alert-block alert-info\"> \n",
    "    <b>Note:</b> I'm providing this notebook for you to complete your first assignment so that you can see how I would like you to keep future assignment notebooks organized. Make sure to have headers for each exercise/problem, and separate each one with a horizontal line for readability. My extra notes to you are in <i>italics</i>. After you've completed the assignment:\n",
    "    \n",
    "1) Remember to click on \"Kernel -> Restart Kernel and Run All Cells\" to make sure your notebook runs without errors from top-to-bottom. \n",
    "    \n",
    "2) Once you've confirmed there are no issues, go to \"File\" and choose \"Download\" to save a copy of your notebook as an .ipynb file locally onto your personal computer. You don't have to rename the file.\n",
    "    \n",
    "3) Next, go to \"File\" and then \"Save and Export Notebook As... -> HTML\" to save a version of your assignment as an .html file. \n",
    "    \n",
    "4) Lastly, upload both files to Canvas under the correct Assignment.\n",
    "    \n",
    "Feel free to delete this textbox prior to submitting your assignment. \n",
    "    \n",
    "</div>"
   ]
  },
  {
   "cell_type": "markdown",
   "id": "133cbb0a-9393-4399-bae1-12f714596b25",
   "metadata": {},
   "source": [
    "---\n",
    "# Problem Set 1\n",
    "\n",
    "*Put a header at the top, as I've done here. No need to have a table of contents like the one below, but feel free to include.*\n",
    "\n",
    "**Chapter 1: End of chapter Problems:**\n",
    "- 1.2\n",
    "- 1.9\n",
    "- 1.11\n",
    "\n",
    "**Chapter 2: Within chapter Exercises:**\n",
    "- 2.3\n",
    "\n",
    "**Chapter 2: End of chapter Problems:**\n",
    "- 2.2\n",
    "- 2.4\n",
    "- 2.5\n",
    "- 2.9\n",
    "\n",
    "\n",
    "---"
   ]
  },
  {
   "cell_type": "markdown",
   "id": "f31c44d6-ddb6-4527-bdba-5a89e97d661b",
   "metadata": {},
   "source": [
    "*Note: You may not even need to use any Python packages for this assignment, but just in case you can import what you'll need towards the start of the notebook, as I've done below.*"
   ]
  },
  {
   "cell_type": "code",
   "execution_count": 1,
   "id": "6a0b4318-44ce-4adf-b320-f9c689aa38c9",
   "metadata": {},
   "outputs": [],
   "source": [
    "# Imports (these two packages will take you far for most problem sets)\n",
    "import matplotlib.pyplot as plt\n",
    "import numpy as np"
   ]
  },
  {
   "cell_type": "markdown",
   "id": "0b1e715b-ce98-4fd1-b8a5-7e57d0ff8aa7",
   "metadata": {},
   "source": [
    "---\n",
    "## Chapter 1: End of Chapter Problems\n",
    "\n",
    "### Problem 1.2\n",
    "\n",
    "*Type your answer here. Note the horizontal line separating different problems. You will want to write probability statements for some answers, which will look best if you format them with $\\LaTeX$. For example:*\n",
    "\n",
    "$p(\\text{world state} | \\text{observations})$"
   ]
  },
  {
   "cell_type": "markdown",
   "id": "672b5707-3474-4f56-8708-874de2ad7e8d",
   "metadata": {},
   "source": [
    "---\n",
    "### Problem 1.9\n",
    "\n"
   ]
  },
  {
   "cell_type": "markdown",
   "id": "6e3f73ff-211d-4776-96de-f204be5a14f3",
   "metadata": {},
   "source": [
    "---\n",
    "### Problem 1.11\n",
    "\n",
    "#### Example 1 \n",
    "- Observation: \n",
    "- World state of interest: \n",
    "- Source(s) of uncertainty: \n",
    "\n",
    "#### Example 2 \n",
    "\n",
    "#### Example 3\n"
   ]
  },
  {
   "cell_type": "markdown",
   "id": "795cb878-3538-4ecb-a225-576d9d63c16b",
   "metadata": {},
   "source": [
    "---\n",
    "## Chapter 2: Exercises\n"
   ]
  },
  {
   "cell_type": "markdown",
   "id": "6f4102a7-bbd9-4865-8816-cdc80adcf9f0",
   "metadata": {},
   "source": [
    "### Exercise 2.3\n",
    "\n",
    "*We are solving for the following posterior probability: $p(\\text{dry} | \\text{not shiny})$.*  \n",
    "\n",
    "***Pro tip:** For many questions (like this one), you will want to work out the answer by hand using pencil and paper first, and then translate your answer to Markdown and $\\LaTeX$. This workflow of working out solutions by hand first is extremely useful. When you're working through the logic, you want to focus only on the problem and not concern yourself with formatting, code, etc. When it's time to communicate your answer, that's when you can take time to format it correctly.*\n",
    "\n",
    "*The last step of this exercise will be to compute the posterior (i.e., the numerical value), so best to do so in a code cell.*"
   ]
  },
  {
   "cell_type": "code",
   "execution_count": 2,
   "id": "1fd4024c-2691-4b85-88a2-44cb5a71a00a",
   "metadata": {},
   "outputs": [],
   "source": [
    "# Numerically solving Ex 2.3\n"
   ]
  },
  {
   "cell_type": "markdown",
   "id": "5c50e59d-0d8e-45e9-b9da-50136f9b9741",
   "metadata": {},
   "source": [
    "---\n",
    "## Chapter 2: End of Chapter Problems\n",
    "### Problem 2.4\n"
   ]
  },
  {
   "cell_type": "markdown",
   "id": "2479d98d-b1c7-4f69-94e1-1fd0ee8e7f27",
   "metadata": {},
   "source": []
  },
  {
   "cell_type": "code",
   "execution_count": 3,
   "id": "26637268-9b6c-402c-871b-4699d23c42f9",
   "metadata": {},
   "outputs": [],
   "source": [
    "# Solve using Bayes' Theorem\n"
   ]
  },
  {
   "cell_type": "markdown",
   "id": "cd91b85f-ef2b-43fc-b99d-402baf770248",
   "metadata": {},
   "source": [
    "---\n",
    "### Problem 2.5\n"
   ]
  },
  {
   "cell_type": "markdown",
   "id": "2c96cac0-13e2-4640-9b07-2b57e68019e5",
   "metadata": {},
   "source": []
  },
  {
   "cell_type": "markdown",
   "id": "dc0fa4b8-97cc-4c75-9110-8ced14e2999b",
   "metadata": {},
   "source": [
    "---\n",
    "### Problem 2.9\n",
    "\n",
    "*There are two questions being asked here. First, is to derive a \"general expression for the probability that the bag you are viewing (which matches your bag visually) is your own, ***as a function of the number of bags you have viewed so far.***\" The second question is about how many bags you must view before the posterior is greater than 70 percent.*\n"
   ]
  }
 ],
 "metadata": {
  "kernelspec": {
   "display_name": "Python 3 (ipykernel)",
   "language": "python",
   "name": "python3"
  },
  "language_info": {
   "codemirror_mode": {
    "name": "ipython",
    "version": 3
   },
   "file_extension": ".py",
   "mimetype": "text/x-python",
   "name": "python",
   "nbconvert_exporter": "python",
   "pygments_lexer": "ipython3",
   "version": "3.10.8"
  }
 },
 "nbformat": 4,
 "nbformat_minor": 5
}

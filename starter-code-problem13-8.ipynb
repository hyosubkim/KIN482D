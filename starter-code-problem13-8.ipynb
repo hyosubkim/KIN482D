{
 "cells": [
  {
   "cell_type": "markdown",
   "id": "b03a75ad-8c6d-4060-b5c3-1935e676c8da",
   "metadata": {},
   "source": [
    "# Starter Code for Problem 13.8\n",
    "\n",
    "The code below gets you well on your way to plotting one combination of D (distance between target centers) and $\\sigma_\\text{motor}$. Testing different combinations of D and $\\sigma_\\text{motor}$ for part (b) just requires adding a couple more values for each. The easiest way to do that is through the use of for loops. "
   ]
  },
  {
   "cell_type": "code",
   "execution_count": null,
   "id": "c98d452a-259d-4b4e-b75f-42668f7e506a",
   "metadata": {},
   "outputs": [],
   "source": [
    "import matplotlib.pyplot as plt\n",
    "import numpy as np\n",
    "\n",
    "%config Inline.Backend.figure_formt = \"retina\""
   ]
  },
  {
   "cell_type": "code",
   "execution_count": null,
   "id": "277e1fcc-75d9-413d-8388-0c13a5775b1c",
   "metadata": {},
   "outputs": [],
   "source": [
    "# Helper function\n",
    "def calc_gauss(x, mu, sigma, bin_width=1):\n",
    "    p = (1 / np.sqrt(2 * np.pi * sigma**2)) * np.exp(-(x - mu)**2 / (2 * sigma**2))\n",
    "    p = p * bin_width  # To convert density to actual probability values\n",
    "    return p"
   ]
  },
  {
   "cell_type": "code",
   "execution_count": null,
   "id": "6fa34dc4-e919-4af8-9c15-c4e7566880b5",
   "metadata": {},
   "outputs": [],
   "source": [
    "# Problem we are trying to solve is finding optimal aimpoint that maximizes expected gain.\n",
    "# Must take into account reward and penalty regions as well as motor variability.\n",
    "# Below is starter code for plotting 1 combination of D and motor variability. \n",
    "actions = np.arange(-10, 10.001, 0.1) # all possible aiming locations (i.e., actions)\n",
    "outcomes = np.arange(-10, 10.001, 0.1) # all possible outcomes (identical space as actions)\n",
    "radius = 1  # Radius of targets\n",
    "D = 1.0 # Distance between centers of targets\n",
    "motor_sd = 0.5\n",
    "\n",
    "# Create gain landscape (i.e., the positions of targets and the rewards/losses\n",
    "# associated with them)\n",
    "rewards = np.zeros_like(outcomes)\n",
    "punishments = np.zeros_like(outcomes)\n",
    "rwd_lb, rwd_ub = ...  # Upper and lower bounds of reward region\n",
    "pun_lb, pun_ub = ...  # Upper and lower bounds of loss region\n",
    "rewards[np.argwhere((...) & (...))] = 2.5\n",
    "punishments[np.argwhere((...) & (...))] = -12.5\n",
    "gain = rewards + punishments\n",
    "\n",
    "expected_gain = np.zeros_like(outcomes)\n",
    "# Compute the expected gain for every possible action (aim point)\n",
    "for a in range(len(actions)):\n",
    "    # For each action, integrate (sum) over all possible outcomes\n",
    "    expected_gain[a] = np.sum(...)  # Answer to part (a) will help here\n",
    "\n",
    "a_opt_idx = ...  # Index for optimal aim point\n",
    "a_opt = ...  # Optimal aim point\n",
    "\n",
    "# Plot 3-panel figure\n",
    "fig, axs = plt.subplots(3, 1, figsize=(9, 12))\n",
    "axs[0].plot(outcomes, ..., label=\"Trajectories\")  # Plot the possible outcomes for your optimaal aim\n",
    "axs[0].set_ylabel(\"Probability\")\n",
    "axs[0].axvline(outcomes[a_opt_idx], color=\"k\", label=\"Aim point\")\n",
    "axs[0].legend(frameon=False)\n",
    "axs[1].plot(outcomes, gain, \"k\")\n",
    "axs[1].set_ylabel(\"Gain\")\n",
    "axs[2].plot(outcomes, expected_gain)\n",
    "axs[2].plot(outcomes[a_opt_idx], ..., \"r.\", label='$a_{opt}$')  # Plot a red dot at the max expected gain\n",
    "axs[2].set_ylabel('Expected gain')\n",
    "axs[2].set_xlabel(\"x-axis location\")\n",
    "axs[2].legend(frameon=False)\n",
    "plt.show()\n"
   ]
  },
  {
   "cell_type": "markdown",
   "id": "fcc94933-a301-4e72-a9c8-d90db60fdacb",
   "metadata": {},
   "source": [
    "### Hints for parts (b) and (c). \n",
    "\n",
    "For part (b), test the following values: $D = [0.5, 1, 2]$, and $\\sigma_\\text{motor} = [0.25, 0.5]$. Plot the optimal aim point as a function of $D$ and $\\sigma_\\text{motor}$ by plotting optimal aim point on the y-axis vs $\\sigma_\\text{motor}$ on the x-axis. Plot 3 different colored lines in the same figure, with each line color-coded according to their value of $D$. You will create a single plot that conveys all the desired information (unlike what I said in class). \n",
    "\n",
    "To make sure you're on the right track, you can plug in the values for $D$ and $\\sigma_\\text{motor}$ in your code above (where the trajectories associated with the optimal aim point as well as gain and expected gain functions are plotted). This will provide you with greater intuition about your answer(s). "
   ]
  }
 ],
 "metadata": {
  "kernelspec": {
   "display_name": "Python 3 (ipykernel)",
   "language": "python",
   "name": "python3"
  },
  "language_info": {
   "codemirror_mode": {
    "name": "ipython",
    "version": 3
   },
   "file_extension": ".py",
   "mimetype": "text/x-python",
   "name": "python",
   "nbconvert_exporter": "python",
   "pygments_lexer": "ipython3",
   "version": "3.10.8"
  }
 },
 "nbformat": 4,
 "nbformat_minor": 5
}

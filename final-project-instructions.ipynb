{
 "cells": [
  {
   "cell_type": "markdown",
   "id": "5d7714da-feea-467d-8cc4-315a7d305bb3",
   "metadata": {},
   "source": [
    "# KIN 482D: Computational modeling of human sensorimotor control and learning\n",
    "---"
   ]
  },
  {
   "cell_type": "markdown",
   "id": "32e53dfa-caeb-4804-92ad-0aaf6b8c1bcf",
   "metadata": {},
   "source": [
    "## Final project (due: Sunday, April 7, at 11:59 pm)\n",
    "---\n",
    "\n",
    "- Presentations on Monday, April 8, and Wednesday, April 10\n",
    "    - 9 minutes presentation, 3 minutes Q&A\n",
    "    - Must have slide deck prepared\n",
    "   "
   ]
  },
  {
   "cell_type": "markdown",
   "id": "c8fe149f-f18f-463a-9a3f-4f7c65ab8900",
   "metadata": {},
   "source": [
    "## Instructions\n",
    "---\n",
    "\n",
    "The goal of this project is to advance your scientific thinking by rigorously addressing a research question through computational modeling. Either the model or the question (or both!) must be novel. There are 2 options for the final project:\n",
    "\n",
    "#### 1) Develop a novel Bayesian model. \n",
    "#### 2) Write a \"tutorial\", with accompanying simulations, based on a Bayesian model of sensorimotor control from the textbook or the literature.\n",
    "#### 3) (Brand New Option!) Write your report and develop your presentation around a novel experiment to test one of the Bayesian models we've learned about. Make sure your experiment is relevant to the study of sensorimotor control and/or learning. You do not have to provide simulations, model fits, etc. This is more about thinking creatively about how you can test the validity (or predictions) of a Bayesian model. \n",
    "\n",
    "**Notes:** \n",
    "- If you are actively involved in sensorimotor research, I encourage you to choose Options 1 or 2.\n",
    "- If you choose a model we've discussed in class for Options 2 or 3, you will have to be extra thoughtful and creative in your description of a novel experiment/test/application of the model. Don't simply re-summarize what we've already learned! \n",
    "\n",
    "*For Options 1 and 2, your notebook should be structured as follows:*\n",
    "\n",
    "- **Background** (max. 500 words)\n",
    "    - Provide the context and motivation for your model and experiment&mdash;what are you hoping to learn or discover? \n",
    "- **Novel experimental test of model** (Depending on the specifics of your project, you may want to flip the order of this section with the next)\n",
    "    - Propose an experimental test of your model\n",
    "    - Consider how you would be able to discriminate the validity of your model against competing models\n",
    "    - Provide informative visualizations - can include simulations, model fits, etc.\n",
    "- **Theoretical analysis** \n",
    "    - Go through steps 1-3 of Bayesian modeling\n",
    "    - Create simulations with your model\n",
    "    - Add step 4 (model fitting) if you have real or simulated data\n",
    "    - Make sure there are no gaps between your generative model and the equations necessary for performing inference (i.e., no arbitrariness)\n",
    "- **Discussion** (max. 800 words)\n",
    "    - Summarize your overall findings, including strengths and limitations\n",
    "    - Suggest future directions\n",
    "    - Reflect on what you've learned from this project\n",
    "    - Write one paragraph that is a more open-ended discussion of your thoughts regarding modeling, Bayesian modeling, where you would like to take your new-found modeling skills, etc.\n",
    "    \n",
    "    \n",
    "*For Option 3, your notebook should be structured as follows:*\n",
    "\n",
    "- **Background** (max. 500 words)\n",
    "    - Provide the context and motivation for your model and experiment&mdash;what are you hoping to learn or discover? \n",
    "- **Novel experimental test of model** \n",
    "    - Propose an experimental test of your model\n",
    "    - Write about some potential outcomes and their implications. Even though this will be at a more qualitative level than options 1 and 2, you must still demonstrate logic and rigor in your thinking.\n",
    "- **Discussion** (max. 800 words)\n",
    "    - Suggest future directions\n",
    "    - Reflect on what you've learned from this project\n",
    "    - Write one paragraph that is a more open-ended discussion of your thoughts regarding modeling, Bayesian modeling, where you would like to take your new-found modeling skills, etc.\n",
    "    \n",
    "\n",
    "    "
   ]
  }
 ],
 "metadata": {
  "kernelspec": {
   "display_name": "Python 3 (ipykernel)",
   "language": "python",
   "name": "python3"
  },
  "language_info": {
   "codemirror_mode": {
    "name": "ipython",
    "version": 3
   },
   "file_extension": ".py",
   "mimetype": "text/x-python",
   "name": "python",
   "nbconvert_exporter": "python",
   "pygments_lexer": "ipython3",
   "version": "3.10.8"
  }
 },
 "nbformat": 4,
 "nbformat_minor": 5
}

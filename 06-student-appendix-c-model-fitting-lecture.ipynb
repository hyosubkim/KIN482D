{
 "cells": [
  {
   "cell_type": "markdown",
   "id": "7485ab2e-1979-4ab3-8739-8583764a145f",
   "metadata": {
    "editable": true,
    "slideshow": {
     "slide_type": "slide"
    },
    "tags": []
   },
   "source": [
    "# KIN 482D: Computational modeling of human sensorimotor control and learning\n",
    "\n",
    "## Appendix C: Model Fitting and Model Comparison"
   ]
  },
  {
   "cell_type": "markdown",
   "id": "e74f6728-ff04-487d-8a66-46c323d5bb1e",
   "metadata": {
    "editable": true,
    "slideshow": {
     "slide_type": "slide"
    },
    "tags": []
   },
   "source": [
    "## Goals of this section\n",
    "\n",
    "- Learn how to fit a model to data (i.e., \"fit the parameters of a model to data\")\n",
    "- Effectively, this means adjusting the model's unknown parameters (such as $\\sigma_\\text{sensed}$ from Kording & Wolpert 2004) so that the data are accounted for as well as possible\n",
    "- We'll learn the most popular method of parameter fitting, called \"maximum likelihood estimation (MLE)\"\n",
    "    - Mathematically the same as when we discussed MLE in the context of different estimates, or estimators\n",
    "    - Conceptually, we're now talking about using MLE to figure out which parameter values make the observed data (i.e., responses) most probable\n",
    "    - MLE is used for many types of models, not just Bayesian\n",
    "    - Also, we could fit Bayesian models with Bayesian estimation/statistics, but that is outside the scope of this class\n",
    "    - We'll learn that the MLE is the same as the MAP when assuming flat priors\n"
   ]
  },
  {
   "cell_type": "markdown",
   "id": "770cd34e",
   "metadata": {
    "editable": true,
    "slideshow": {
     "slide_type": "slide"
    },
    "tags": []
   },
   "source": [
    "## What is a model?\n",
    "\n",
    "- We can define a model of behavior as a response distribution:\n",
    "\n",
    "$$p(\\text{subject response}|\\text{stimuli})$$\n",
    "\n",
    "Of course, there are all of the other underlying parts that get us to the response distribution as well..."
   ]
  },
  {
   "cell_type": "markdown",
   "id": "db691bc6-4fd9-4f42-a2df-ca23c4fbd0dd",
   "metadata": {
    "editable": true,
    "slideshow": {
     "slide_type": "slide"
    },
    "tags": []
   },
   "source": [
    "## Free parameters\n",
    "\n",
    "- **parameters:** variables of unknown value that are assumed to be constant throughout an experiment\n",
    "    - Represent properties or beliefs that may differ between subjects\n",
    "    - Examples: sensory noise level ($\\sigma$), assumed prior mean ($\\mu_{\\text{prior}}$)\n",
    "    - Set of free parameters of a model is collectively represented by $\\theta$ (sometimes also see capital theta, $\\Theta$)\n",
    "    - Model itself is represented by $M$\n",
    "    - We make the dependence of the response distribution on the parameters and the model explicit by writing $p(\\text{subject response} | \\text{stimuli}; \\theta, M)$\n",
    "    - Here, semicolon serves to separate variables that vary from trial to trial (response and stimuli) from the model identity and model parameters, which do *not* vary from trial to trial"
   ]
  },
  {
   "cell_type": "markdown",
   "id": "bd1845e5-e889-4678-8362-c0224ea8827b",
   "metadata": {
    "editable": true,
    "slideshow": {
     "slide_type": "slide"
    },
    "tags": []
   },
   "source": [
    "## The parameter likelihood\n",
    "\n",
    "- The goal in **model fitting/parameter fitting/parameter estimation** is to try to find the parameter values that best describe the data\n",
    "- **Maximum likelihood estimation** is the approach you will learn for parameter estimation  \n",
    "&nbsp;  \n",
    "\n",
    "\n",
    "$$\\mathscr{L}_M(\\theta;\\text{data}) = p(\\text{subject responses across all trials} \\mid \\text{stimuli across all trials}; \\theta, M)$$\n",
    "\n",
    "&nbsp;\n",
    "\n",
    "***The likelihood of a parameter combination, $\\theta$, is high when (the model with) that parameter combination (applied to the stimuli experienced by the subject) would often produce the subject responses.*** \n",
    "\n",
    "**Whiteboard.**\n",
    "\n"
   ]
  },
  {
   "cell_type": "markdown",
   "id": "32bd19fd-2569-4a79-aa7c-1471e08f1bff",
   "metadata": {
    "editable": true,
    "slideshow": {
     "slide_type": "slide"
    },
    "tags": []
   },
   "source": [
    "## Conditional independence of observations\n",
    "\n",
    "$$\\mathscr{L}_M(\\theta;\\text{data}) = \\prod_{i=1}^{n_{\\text{trials}}} p(\\text{subject responses across all trials} \\mid \\text{stimuli across all trials}; \\theta, M)$$\n",
    "\n",
    "- We assume each observation is independent of all others and that all observations come from same distribution\n",
    "- Sometimes this property is referred to as I.I.D. - independent and identically distributed\n"
   ]
  },
  {
   "cell_type": "markdown",
   "id": "1e0b910d-4b94-40d3-9f4a-c12395242070",
   "metadata": {
    "editable": true,
    "slideshow": {
     "slide_type": "slide"
    },
    "tags": []
   },
   "source": [
    "## Maximum-likelihood estimation (MLE)\n",
    "\n",
    "- MLE of the parameters $\\theta$ means finding the values of $\\theta$ such that $\\mathscr{L}_M(\\theta ; \\text{data})$ is highest. In other words, what parameter values maximize the probability of your data. \n",
    "\n",
    "- Typically, when we write code to perform MLE, we maximize the $\\text{log} \\left( \\mathscr{L}_M(\\theta ; \\text{data}) \\right)$\n",
    "\n",
    "- This is because when you multiply lots of small values (like probabilities), you can run into the problem of \"underflow\", which is when values become smaller than what a programming language/computer is capable of representing. \n",
    "\n",
    "- Taking the log has several advantages: \n",
    "    - Maximizing $\\mathscr{L}_M(\\theta ; \\text{data})$ is equivalent to maximizing $\\text{log} \\left[ \\mathscr{L}_M(\\theta ; \\text{data}) \\right]$\n",
    "    - Multiplication becomes addition: $\\text{log}(a \\cdot b) = \\text{log}(a) + \\text{log}(b)$\n",
    "    - $\\text{log}(p)$ values scale to be between $(-\\infty, 0]$, so you avoid underflow\n",
    "\n",
    "<center><img src=\"images/figC-1.png\" width=800></center>\n",
    "\n",
    "*\\*\"brain\" in the figure refers to the subject's brain*"
   ]
  },
  {
   "cell_type": "markdown",
   "id": "d158438c-4e5a-4057-a028-b48e4525d371",
   "metadata": {
    "editable": true,
    "slideshow": {
     "slide_type": "slide"
    },
    "tags": []
   },
   "source": [
    "## Maximum-likelihood estimation (MLE)\n",
    "\n",
    "- MLE is equivalent to Bayesian parameter estimation using uniform priors over parameter values\n",
    "- Authors state that use of priors (to be fully Bayesian in our parameter estimation) is not necessary as long as the data set is sufficiently large (many trials) and there are sufficiently few parameters -- why? \n",
    "- Covering the use of priors in *parameter estimation* and computing full probability distributions for these parameter estimates is beyond the scope of the book and this course.\n",
    "\n",
    "**Whiteboard (starting with C.5.1 Simple Model)**\n",
    "    "
   ]
  },
  {
   "cell_type": "markdown",
   "id": "163ae2c8-a12c-447a-a637-22e07ef2cecd",
   "metadata": {
    "editable": true,
    "slideshow": {
     "slide_type": "slide"
    },
    "tags": []
   },
   "source": [
    "## Fitting data from an estimation task\n",
    "\n",
    "First, fit with a simple model in which the observer does not use a prior and simply reports the measurement. That is, $\\hat{s} = x$ and distribution of $p(\\hat{s}|s, \\sigma) \\sim N(s, \\sigma^2)$.\n",
    "\n",
    "**Go to the board.**"
   ]
  },
  {
   "cell_type": "code",
   "execution_count": 1,
   "id": "8555c4ee-bfa8-45cd-abff-5dc07f636bff",
   "metadata": {
    "editable": true,
    "slideshow": {
     "slide_type": "slide"
    },
    "tags": []
   },
   "outputs": [
    {
     "name": "stdout",
     "output_type": "stream",
     "text": [
      "Intel MKL WARNING: Support of Intel(R) Streaming SIMD Extensions 4.2 (Intel(R) SSE4.2) enabled only processors has been deprecated. Intel oneAPI Math Kernel Library 2025.0 will require Intel(R) Advanced Vector Extensions (Intel(R) AVX) instructions.\n",
      "Intel MKL WARNING: Support of Intel(R) Streaming SIMD Extensions 4.2 (Intel(R) SSE4.2) enabled only processors has been deprecated. Intel oneAPI Math Kernel Library 2025.0 will require Intel(R) Advanced Vector Extensions (Intel(R) AVX) instructions.\n"
     ]
    }
   ],
   "source": [
    "import numpy as np\n",
    "import matplotlib.pyplot as plt\n",
    "\n",
    "%config InlineBackend.figure_format = \"retina\""
   ]
  },
  {
   "cell_type": "code",
   "execution_count": 2,
   "id": "8980dda5-0249-473d-919a-6445999b85cc",
   "metadata": {
    "editable": true,
    "slideshow": {
     "slide_type": "-"
    },
    "tags": []
   },
   "outputs": [],
   "source": [
    "# Data for estimation task: 's' is true stim location; 's_hat' is observer's estimates\n",
    "s = np.array([1.61, 5.50, -6.78, 2.59, 0.96, -3.92, -1.30, 1.03, 10.74, 8.31, \n",
    "              -4.05, 9.10, 2.18, -0.19, 2.14]) \n",
    "s_hat = np.array([0.37, 1.62, -1.17, 1.66, 1.17, -0.79, -1.14, 0.76, 4.31, \n",
    "                2.86, -0.61, 3.25, 0.48, 0.12, 0.18]) "
   ]
  },
  {
   "cell_type": "code",
   "execution_count": 3,
   "id": "62073ed2-a858-415a-b907-024751d95ebd",
   "metadata": {
    "editable": true,
    "slideshow": {
     "slide_type": "slide"
    },
    "tags": []
   },
   "outputs": [
    {
     "data": {
      "image/png": "[encoded data removed]",
      "text/plain": [
       "<Figure size 640x480 with 1 Axes>"
      ]
     },
     "metadata": {
      "image/png": {
       "height": 433,
       "width": 451
      }
     },
     "output_type": "display_data"
    }
   ],
   "source": [
    "# Plot the data\n",
    "lb, ub = [-14, 14]  # axes boundaries\n",
    "\n",
    "# Set-up your figure axis object\n",
    "fig, ax = plt.subplots()\n",
    "ax.plot(\n",
    "    np.arange(lb, ub + 0.1, 0.5), \n",
    "    np.arange(lb, ub + 0.1, 0.5),\n",
    "    color='k',\n",
    "    linestyle=\"--\")\n",
    "ax.scatter(s, s_hat, edgecolor='k', s=60)\n",
    "ax.set(xlim=[lb, ub], ylim=[lb, ub], xlabel=\"True stimulus, $s$\", \\\n",
    "       ylabel=\"Stimulus estimate, $\\hat{s}$\")\n",
    "ax.set_box_aspect(1)  # Make axes square\n",
    "plt.show() "
   ]
  },
  {
   "cell_type": "markdown",
   "id": "0235148b-2f68-4c99-894e-81075687591d",
   "metadata": {
    "editable": true,
    "slideshow": {
     "slide_type": "slide"
    },
    "tags": []
   },
   "source": [
    "### Finding best-fit parameter using grid search\n",
    "\n",
    "**Whiteboard.** \n",
    "\n",
    "Example code will be provided. "
   ]
  },
  {
   "cell_type": "markdown",
   "id": "4e9b829d-7048-44d8-bb2f-a9c3d99b3e25",
   "metadata": {
    "slideshow": {
     "slide_type": "slide"
    }
   },
   "source": [
    "---\n",
    "## Model Comparison (Selection)\n",
    "\n",
    "- How do we know which model fits the data best? That is, how can we use the $\\mathscr{L}^*$ (maximum log-likelihood) of different models to objectively compare them? \n",
    "- The issue is that you have to consider both how well a model fits your data *and* how complex it is? An overly complex model may fit your data great, but that doesn't mean it can make accurate predictions.\n",
    "- Akaike Information Criterion (AIC) and Bayesian Information Criterion (BIC) are two of the most popular metrics of model quality&mdash;both take into account the fit ($\\mathscr{L}^*$) and complexity (the number of free parameters)\n",
    "\n",
    "\\begin{align}\n",
    "\\text{AIC} &= -2(\\log\\mathscr{L}^* - n_{\\text{parameters}}) \\\\\n",
    "\\text{BIC} &= -2\\left(\\log\\mathscr{L}^* - \\dfrac{\\log n_{\\text{trials}}}{2} n_{\\text{parameters}}\\right) \\\n",
    "\\end{align}\n",
    "\n",
    "- The model with the lowest AIC or BIC value is considered the best\n",
    "- Note that it is the relative magnitudes of these scores that matter (i.e., which model has the lowest AIC/BIC) and not the aboslute magnitudes \n",
    "- Practical advice: You can compute both AIC and BIC scores when you do model selection; if they disagree, then you have to question how much better one model is than another\n",
    "\n",
    "- Minor note: The $-2$ in front is so that for Gaussian likelihoods, the leading term (ignoring the normalizing constant) turns into the sum of squared errors\n",
    "\n",
    "### Cross-validation\n",
    "\n",
    "- Conceptually different: Here we are concerned with the accuracy (or, log-likelihood) of model when tested on \"out-of-sample\" (test) data\n",
    "- Bread and butter method within Machine Learning\n",
    "- Divide data into *K* folds that are statistically equivalent (no systematic differences between data in each fold)\n",
    "- Figure below illustrates 5-fold CV\n",
    "\n",
    "<center><img src=\"images/cross-validation.png\" width=800></center>"
   ]
  },
  {
   "cell_type": "markdown",
   "id": "e33e9ca1-c7dc-4f2e-8cad-9e9bf09069db",
   "metadata": {
    "slideshow": {
     "slide_type": "slide"
    }
   },
   "source": [
    "## Parameter Recovery and Model Recovery\n",
    "\n",
    "- Simulate data with your models\n",
    "- Then, fit your simulated data with your models\n",
    "- **The model that generated the data should be able to fit the data well!**\n",
    "    - More specifically, the MLE of the parameters should be very close to the ones used to create the fake data\n",
    "- Formal model comparison should show that the model which generated the fake data is also the best model \n",
    "- The Wilson & Collins (2019) article is a great overview of these steps that goes into much greater detail!"
   ]
  },
  {
   "cell_type": "markdown",
   "id": "8b11c6c1-3680-4053-b5c0-4c3c4dae1c95",
   "metadata": {
    "slideshow": {
     "slide_type": "slide"
    }
   },
   "source": [
    "## Helpful hint for Problem 4.17\n",
    "\n",
    "<center><img src=\"images/fig-4-17-i.png\" width 1500></center>"
   ]
  },
  {
   "cell_type": "markdown",
   "id": "c556522b-949b-4d2f-8775-24aae30654ec",
   "metadata": {
    "slideshow": {
     "slide_type": "slide"
    }
   },
   "source": [
    "## For next class\n",
    "\n",
    "- Submit your assignment over the weekend\n",
    "- Read Chapter 5 and Ernst & Banks (2002) - covers the Swiss Army knife of Bayesian models (cue combination)"
   ]
  }
 ],
 "metadata": {
  "celltoolbar": "Slideshow",
  "kernelspec": {
   "display_name": "teaching",
   "language": "python",
   "name": "teaching"
  },
  "language_info": {
   "codemirror_mode": {
    "name": "ipython",
    "version": 3
   },
   "file_extension": ".py",
   "mimetype": "text/x-python",
   "name": "python",
   "nbconvert_exporter": "python",
   "pygments_lexer": "ipython3",
   "version": "3.10.14"
  },
  "rise": {
   "scroll": true
  }
 },
 "nbformat": 4,
 "nbformat_minor": 5
}

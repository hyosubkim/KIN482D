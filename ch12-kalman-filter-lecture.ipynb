{
 "cells": [
  {
   "cell_type": "markdown",
   "id": "ed43c048-5703-4cb2-bba2-3565a2becdd9",
   "metadata": {
    "slideshow": {
     "slide_type": "slide"
    }
   },
   "source": [
    "# KIN 482D: Computational modeling of human sensorimotor control and learning\n",
    "\n",
    "## Chapter 12: Inference in a changing world; Robert Jacobs tutorial on Kalman filtering"
   ]
  },
  {
   "cell_type": "markdown",
   "id": "fbf2fb15-c8b4-4250-b001-e08e3445b8de",
   "metadata": {
    "slideshow": {
     "slide_type": "slide"
    }
   },
   "source": [
    "## Housekeeping\n",
    "\n",
    "- Final projects, final projects, final projects...\n"
   ]
  },
  {
   "cell_type": "markdown",
   "id": "34dccbbe-fdfe-4a2f-a21d-aa00c526969c",
   "metadata": {
    "slideshow": {
     "slide_type": "slide"
    }
   },
   "source": [
    "## The Kalman filter - a foundational learning algorithms\n",
    "\n",
    "- \"The Kalman filter is over 50 years old but is still one of the most important and common data fusion algorithms in use today.\" (Ramsey Faragher, BAE Systems Advanced Technology Centre, UK)\n",
    "- \"The Kalman filter has long been regarded as the optimal solution to many tracking and data prediction tasks.\" (Tony Lacey, MIT)\n",
    "- \"Kalman filters have been vital in the implementation of the navigation systems of U.S. Navy nuclear ballistic missile submarines, and in the guidance and navigation systems of cruise missiles such as the U.S. Navy's Tomahawk missile and the U.S. Air Force's Air Launched Cruise Missile. They are also used in the guidance and navigation systems of reusable launch vehicles and the attitude control and navigation systems of spacecraft which dock at the International Space Station.\" (Wikipedia entry)\n",
    "- \"For a linear system, the Kalman filter is the optimal observer in that it estimates the state with the least squared error. Such a model has been supported by empirical studies examining estimation of hand position, posture, and head orientation.\" (Daniel Wolpert and Zoubin Ghahramani, *Nature* 2000)\n",
    "\n",
    "<center><img src=\"images/Rudolf_Kalman.jpg\"></center>\n",
    "<center>Prof. Rudolf Kalman (1930-2016)</center>"
   ]
  },
  {
   "cell_type": "markdown",
   "id": "cb201489-830d-4cca-9469-4c642bf28af3",
   "metadata": {
    "slideshow": {
     "slide_type": "slide"
    }
   },
   "source": [
    "## What questions does the KF solve? \n",
    "\n",
    "- Provides optimal estimate of a dynamic hidden state variable that emits noisy observations\n",
    "- Why it's so helpful for tracking a vehicle or person's geocentric coordinates as well as landing a spacecraft \n",
    "- Also a good model for how the brain tracks the position of unseen moving hand or estimates the magnitude of different external perturbations&mdash;that is, it is a good model of error-based learning!\n",
    "- Read the Burge, Ernst & Banks paper if you haven't already and be ready to discuss on Wed!\n",
    "\n",
    "<center><img src=\"images/fig_burge-et-al-2008.png\" width=750></center>"
   ]
  },
  {
   "cell_type": "markdown",
   "id": "3033b3fe-9a0c-43ad-a780-b38b02b942dd",
   "metadata": {
    "slideshow": {
     "slide_type": "slide"
    }
   },
   "source": [
    "## Kalman filter\n",
    "- Example of a Markov model, which are defined by the Markov property:  \n",
    "$$p(s_{t}|s_0, s_1, s_2,...,s_{t-1}) = p(s_{t}|s_{t-1})$$\n",
    "- More specifically, the KF is considered a hidden Markov model (HMM)\n",
    "- Don't be confused: the term HMM is more general and is usually used to describe models that track a discrete variable, while KF is used when tracking a continuous variable\n",
    "\n",
    "<center><img src=\"images/fig12-1.png\" width=700>"
   ]
  },
  {
   "cell_type": "markdown",
   "id": "0b0eb31b",
   "metadata": {},
   "source": [
    "## Everything else on whiteboard"
   ]
  }
 ],
 "metadata": {
  "celltoolbar": "Slideshow",
  "kernelspec": {
   "display_name": "Python 3 (ipykernel)",
   "language": "python",
   "name": "python3"
  },
  "language_info": {
   "codemirror_mode": {
    "name": "ipython",
    "version": 3
   },
   "file_extension": ".py",
   "mimetype": "text/x-python",
   "name": "python",
   "nbconvert_exporter": "python",
   "pygments_lexer": "ipython3",
   "version": "3.10.8"
  },
  "rise": {
   "scroll": true
  }
 },
 "nbformat": 4,
 "nbformat_minor": 5
}

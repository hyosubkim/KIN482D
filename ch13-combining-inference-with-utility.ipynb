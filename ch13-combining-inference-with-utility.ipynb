{
 "cells": [
  {
   "cell_type": "markdown",
   "id": "16f19673-9896-43c7-a63a-c460900201e7",
   "metadata": {
    "editable": true,
    "slideshow": {
     "slide_type": "slide"
    },
    "tags": []
   },
   "source": [
    "# KIN 482D: Computational modeling of human sensorimotor control and learning\n",
    "\n",
    "## Chapter 13: Combining inference with utility&mdash;i.e., Bayesian Decision Theory"
   ]
  },
  {
   "cell_type": "markdown",
   "id": "bf0a3f71-5eb6-42a4-af3c-80ca3dd408bc",
   "metadata": {
    "editable": true,
    "slideshow": {
     "slide_type": "slide"
    },
    "tags": []
   },
   "source": [
    "## How can we make optimal decisions when potential rewards and costs are involved? \n",
    "\n",
    "- Up until now, we were mainly dealing with \"pure\" perceptual tasks\n",
    "- We assumed the ideal observer is either trying to maximize accuracy (discrete tasks) or minimize MSE (continuous tasks), which are reasonable assumptions\n",
    "- We now consider decisions that are tied to actions and that have different consequences\n",
    "\n",
    "<center><img src=\"images/kording-and-wolpert-2006-box-1.png\" width=700></center>\n",
    "\n",
    "<center>From Kording & Wolpert (2006)</center>"
   ]
  },
  {
   "cell_type": "markdown",
   "id": "b28d13d5-0548-4908-9de0-e5646f8f3248",
   "metadata": {
    "editable": true,
    "slideshow": {
     "slide_type": "slide"
    },
    "tags": []
   },
   "source": [
    "## Let's talk marginalization (chapter 8.3 has an extensive discussion)\n",
    "\n",
    "In simplest terms, marginalization is the technique of converting a probability distribution over multiple variables into a probability over one variable. \"The combination of Bayes' rule and *marginalization* powers virtually all of Bayesian modeling.\"\n",
    "\n",
    "We first encountered marginalization in the first few weeks when going over how to compute the denominator of Bayes' rule. For example:\n",
    "\n",
    "\\begin{align}\n",
    "p(obs) &= p(obs, H) \\\\\n",
    "&= \\sum_H p(obs|H)p(H)\n",
    "\\end{align}\n",
    "\n",
    "Fun example: Probability that the sum of two die rolls equals X. **[Board.]**"
   ]
  },
  {
   "cell_type": "markdown",
   "id": "98f23f37-2cef-4b7e-9c1e-b424b4c2274a",
   "metadata": {
    "editable": true,
    "slideshow": {
     "slide_type": "slide"
    },
    "tags": []
   },
   "source": [
    "## What type of function?\n",
    "\n",
    "- Don't be confused by all the different terminology you will see. They all refer to essentially the same thing (you can either replace one term for another or flip the sign to switch out terms)\n",
    "    - Cost function\n",
    "    - Loss function\n",
    "    - J\n",
    "    - Utility function (opposite sign as previous three)\n",
    "    - Reward function (similar to utility)\n",
    "- Depending on whether we are counting up \"losses\" or \"gains\", the ideal observer wants to minimize or maximize these quantities"
   ]
  },
  {
   "cell_type": "markdown",
   "id": "6b67ad23-ef2d-4a66-afb3-cc20d2f28a2f",
   "metadata": {
    "editable": true,
    "slideshow": {
     "slide_type": "slide"
    },
    "tags": []
   },
   "source": [
    "## Simple real world example\n",
    "\n",
    "<img src=\"images/fig13-1.png\">\n",
    "\n",
    "<center><b>Work out expected costs of each action.</b></center>"
   ]
  },
  {
   "cell_type": "markdown",
   "id": "a784aaf3-0fcb-47a2-9d9d-a37a2a90da35",
   "metadata": {
    "editable": true,
    "slideshow": {
     "slide_type": "slide"
    },
    "tags": []
   },
   "source": [
    "### We'll go to whiteboard to develop the mathematical framework \n",
    "\n",
    "We'll end by embedding this framework into a motor control problem (see Trommershauser papers on Canvas!)\n",
    "\n",
    "\n"
   ]
  },
  {
   "cell_type": "markdown",
   "id": "7ff9266e-967d-4158-a3ae-45c673201fcf",
   "metadata": {
    "editable": true,
    "slideshow": {
     "slide_type": "slide"
    },
    "tags": []
   },
   "source": [
    "## Statistical Decision Theory \n",
    "\n",
    "What is the best movement plan? Agent must take into account potential rewards and costs in deciding? Agent should also take into account the uncertain mapping from movement plan (selected action) to outcome (actual reach trajectory). \n",
    "\n",
    "&nbsp;\n",
    "\n",
    "<center><img src=\"images/figI-trommershauser-et-al.png\" width=850></center>\n",
    "\n",
    "<center><img src=\"images/figII-trommershauser-et-al.png\" width=750></center>\n",
    "\n",
    "<center><b>From Trommershauser et al (2008)</b></center>"
   ]
  },
  {
   "cell_type": "markdown",
   "id": "1a769945-196e-48fb-937a-2ed6990e8810",
   "metadata": {
    "editable": true,
    "slideshow": {
     "slide_type": "slide"
    },
    "tags": []
   },
   "source": [
    "## How to test optimal movement planning in the lab? \n",
    "\n",
    "<center><img src=\"images/fig1-trommershauser-et-al.png\"></center>"
   ]
  },
  {
   "cell_type": "markdown",
   "id": "a964078f-bfe7-4af6-afe3-63d8e57ef6dc",
   "metadata": {
    "editable": true,
    "slideshow": {
     "slide_type": ""
    },
    "tags": []
   },
   "source": [
    "***Go to problem set to show plots.***"
   ]
  },
  {
   "cell_type": "markdown",
   "id": "b3193e63-6ace-4f30-b325-d62a96fc85cb",
   "metadata": {
    "editable": true,
    "slideshow": {
     "slide_type": "slide"
    },
    "tags": []
   },
   "source": [
    "---\n",
    "## Plan for Wednesday class (March 19, 2025)\n",
    "\n",
    "Continuing on with Combining Inference and Utility and checking in on final projects!\n",
    "\n",
    "\n",
    "\n"
   ]
  }
 ],
 "metadata": {
  "celltoolbar": "Slideshow",
  "kernelspec": {
   "display_name": "Python 3 (ipykernel)",
   "language": "python",
   "name": "python3"
  },
  "language_info": {
   "codemirror_mode": {
    "name": "ipython",
    "version": 3
   },
   "file_extension": ".py",
   "mimetype": "text/x-python",
   "name": "python",
   "nbconvert_exporter": "python",
   "pygments_lexer": "ipython3",
   "version": "3.10.14"
  },
  "rise": {
   "scroll": true
  }
 },
 "nbformat": 4,
 "nbformat_minor": 5
}

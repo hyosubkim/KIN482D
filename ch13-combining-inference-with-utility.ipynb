{
 "cells": [
  {
   "cell_type": "markdown",
   "id": "16f19673-9896-43c7-a63a-c460900201e7",
   "metadata": {
    "slideshow": {
     "slide_type": "slide"
    }
   },
   "source": [
    "# KIN 482D: Computational modeling of human sensorimotor control and learning\n",
    "\n",
    "## Chapter 13: Combining inference with utility&mdash;i.e., Bayesian Decision Theory"
   ]
  },
  {
   "cell_type": "markdown",
   "id": "bf0a3f71-5eb6-42a4-af3c-80ca3dd408bc",
   "metadata": {
    "slideshow": {
     "slide_type": "slide"
    }
   },
   "source": [
    "## How can we make optimal decisions when potential rewards and costs are involved? \n",
    "\n",
    "- Up until now, we were mainly dealing with \"pure\" perceptual tasks\n",
    "- We assumed the ideal observer is either trying to maximize accuracy (discrete tasks) or minimize MSE (continuous tasks), which are reasonable assumptions\n",
    "- We now consider decisions that are tied to actions and that have different consequences\n",
    "\n",
    "<center><img src=\"images/kording-and-wolpert-2006-box-1.png\" width=700></center>\n",
    "\n",
    "<center>From Kording & Wolpert (2006)</center>"
   ]
  },
  {
   "cell_type": "markdown",
   "id": "98f23f37-2cef-4b7e-9c1e-b424b4c2274a",
   "metadata": {
    "slideshow": {
     "slide_type": "slide"
    }
   },
   "source": [
    "## What type of function?\n",
    "\n",
    "- Don't be confused by all the different terminology you will see. They all refer to essentially the same thing (you can either replace one term for another or flip the sign to switch out terms)\n",
    "    - Cost function\n",
    "    - Loss function\n",
    "    - J\n",
    "    - Utility function (opposite sign as previous three)\n",
    "    - Reward function (similar to utility)\n",
    "- Depending on whether we are counting up \"losses\" or \"gains\", the ideal observer wants to minimize or maximize these quantities"
   ]
  },
  {
   "cell_type": "markdown",
   "id": "6b67ad23-ef2d-4a66-afb3-cc20d2f28a2f",
   "metadata": {
    "slideshow": {
     "slide_type": "slide"
    }
   },
   "source": [
    "## Simple real world example\n",
    "\n",
    "<img src=\"images/fig13-1.png\">\n",
    "\n",
    "<center><b>Work out expected costs of each action.</b></center>"
   ]
  },
  {
   "cell_type": "markdown",
   "id": "a784aaf3-0fcb-47a2-9d9d-a37a2a90da35",
   "metadata": {
    "slideshow": {
     "slide_type": "slide"
    }
   },
   "source": [
    "### Go to whiteboard to develop the mathematical framework and then embed this framework into a motor control problem\n",
    "\n",
    "***Whiteboard for majority of lecture***\n",
    "\n"
   ]
  },
  {
   "cell_type": "markdown",
   "id": "7ff9266e-967d-4158-a3ae-45c673201fcf",
   "metadata": {
    "slideshow": {
     "slide_type": "slide"
    }
   },
   "source": [
    "## Statistical Decision Theory \n",
    "\n",
    "What is the best movement plan? Agent must take into account potential rewards and costs in deciding? Agent should also take into account the uncertain mapping from movement plan (selected action) to outcome (actual reach trajectory). \n",
    "\n",
    "&nbsp;\n",
    "\n",
    "<center><img src=\"images/figI-trommershauser-et-al.png\" width=850></center>\n",
    "\n",
    "<center><img src=\"images/figII-trommershauser-et-al.png\" width=750></center>\n",
    "\n",
    "<center><b>From Trommershauser et al (2008)</b></center>"
   ]
  },
  {
   "cell_type": "markdown",
   "id": "1a769945-196e-48fb-937a-2ed6990e8810",
   "metadata": {
    "slideshow": {
     "slide_type": "slide"
    }
   },
   "source": [
    "## How to test optimal movement planning in the lab? \n",
    "\n",
    "<center><img src=\"images/fig1-trommershauser-et-al.png\"></center>"
   ]
  },
  {
   "cell_type": "markdown",
   "id": "a964078f-bfe7-4af6-afe3-63d8e57ef6dc",
   "metadata": {
    "slideshow": {
     "slide_type": "slide"
    }
   },
   "source": [
    "***Go to problem set to show plots.***"
   ]
  }
 ],
 "metadata": {
  "celltoolbar": "Slideshow",
  "kernelspec": {
   "display_name": "Python 3 (ipykernel)",
   "language": "python",
   "name": "python3"
  },
  "language_info": {
   "codemirror_mode": {
    "name": "ipython",
    "version": 3
   },
   "file_extension": ".py",
   "mimetype": "text/x-python",
   "name": "python",
   "nbconvert_exporter": "python",
   "pygments_lexer": "ipython3",
   "version": "3.10.8"
  },
  "rise": {
   "scroll": true
  }
 },
 "nbformat": 4,
 "nbformat_minor": 5
}
